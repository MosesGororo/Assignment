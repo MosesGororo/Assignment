{
 "cells": [
  {
   "cell_type": "markdown",
   "id": "7d0e280e",
   "metadata": {},
   "source": [
    "Data Science Tools and Ecosystem"
   ]
  },
  {
   "cell_type": "markdown",
   "id": "250af9d4",
   "metadata": {},
   "source": [
    "In this notebook, Data Science Tools and Ecosystem are summarized."
   ]
  },
  {
   "cell_type": "markdown",
   "id": "87cd2f65",
   "metadata": {},
   "source": [
    "Objectives:\n",
    "List of Popular Data Science Languages\n",
    "List of commonly used libraries used by Data Scientist\n",
    "List of Data Science tools \n",
    "Mathematical Operations in Python"
   ]
  },
  {
   "cell_type": "markdown",
   "id": "a1db5292",
   "metadata": {},
   "source": [
    "Some of the popular languages that Data Scientists use are:\n",
    "1. Python\n",
    "2. R\n",
    "3. SQL\n",
    "4. Java\n",
    "5. SAS"
   ]
  },
  {
   "cell_type": "markdown",
   "id": "bddaf50b",
   "metadata": {},
   "source": [
    "Some of the commonly used libraries used by Data Scientists include:\n",
    "1.Matplotlib\n",
    "2.Numpy\n",
    "3.Pandas\n",
    "4.Scipy\n",
    "5.Seaborn"
   ]
  },
  {
   "cell_type": "markdown",
   "id": "6d13ae1a",
   "metadata": {},
   "source": [
    "| Data Science Tools | \n",
    "| Anaconda           | \n",
    "| Rstudio            | \n",
    "| VS Studio          | "
   ]
  },
  {
   "cell_type": "markdown",
   "id": "ffc6a335",
   "metadata": {},
   "source": [
    "Below are a few examples of evaluating arithmetic expressions in Python:"
   ]
  },
  {
   "cell_type": "code",
   "execution_count": 2,
   "id": "1fc569f4",
   "metadata": {},
   "outputs": [
    {
     "data": {
      "text/plain": [
       "17"
      ]
     },
     "execution_count": 2,
     "metadata": {},
     "output_type": "execute_result"
    }
   ],
   "source": [
    " ##This a simple arithmetic expression to mutiply then add integers\n",
    "(3*4)+5"
   ]
  },
  {
   "cell_type": "code",
   "execution_count": 3,
   "id": "8cee6d1d",
   "metadata": {},
   "outputs": [
    {
     "data": {
      "text/plain": [
       "3.3333333333333335"
      ]
     },
     "execution_count": 3,
     "metadata": {},
     "output_type": "execute_result"
    }
   ],
   "source": [
    "#This will convert 200 minutes to hours by diving by 60\n",
    "200/60"
   ]
  },
  {
   "cell_type": "markdown",
   "id": "d164a32d",
   "metadata": {},
   "source": [
    "Author : Moses C Gororo"
   ]
  }
 ],
 "metadata": {
  "kernelspec": {
   "display_name": "Python 3 (ipykernel)",
   "language": "python",
   "name": "python3"
  },
  "language_info": {
   "codemirror_mode": {
    "name": "ipython",
    "version": 3
   },
   "file_extension": ".py",
   "mimetype": "text/x-python",
   "name": "python",
   "nbconvert_exporter": "python",
   "pygments_lexer": "ipython3",
   "version": "3.11.5"
  }
 },
 "nbformat": 4,
 "nbformat_minor": 5
}
